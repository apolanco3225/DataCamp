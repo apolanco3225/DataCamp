{
 "cells": [
  {
   "cell_type": "code",
   "execution_count": 1,
   "metadata": {},
   "outputs": [
    {
     "name": "stdout",
     "output_type": "stream",
     "text": [
      " congratulations!!!\n"
     ]
    }
   ],
   "source": [
    "# write a simple function\n",
    "\n",
    "def shout():\n",
    "    '''Print a string with three exclamation marks'''\n",
    "    shout_word = ' congratulations' + '!!!'\n",
    "    print(shout_word)\n",
    "    \n",
    "shout()"
   ]
  },
  {
   "cell_type": "code",
   "execution_count": 2,
   "metadata": {},
   "outputs": [
    {
     "name": "stdout",
     "output_type": "stream",
     "text": [
      "congratugratulations!!!\n"
     ]
    }
   ],
   "source": [
    "# define shout with the parameter, word\n",
    "\n",
    "def  shout(word):\n",
    "    '''Print a string with three exclamation marks'''\n",
    "    shout_word = word + '!!!'\n",
    "    print(shout_word)\n",
    "    \n",
    "shout('congratugratulations')"
   ]
  },
  {
   "cell_type": "code",
   "execution_count": 3,
   "metadata": {},
   "outputs": [
    {
     "name": "stdout",
     "output_type": "stream",
     "text": [
      "congratulations!!!\n"
     ]
    }
   ],
   "source": [
    "\n",
    "def shout(word):\n",
    "    '''Return a string with three exclamation marks'''\n",
    "    shout_word = word + '!!!'\n",
    "    return shout_word\n",
    "\n",
    "yell = shout('congratulations')\n",
    "\n",
    "print(yell)"
   ]
  },
  {
   "cell_type": "code",
   "execution_count": 4,
   "metadata": {},
   "outputs": [
    {
     "name": "stdout",
     "output_type": "stream",
     "text": [
      "congratulations!!!Arturo!!!\n"
     ]
    }
   ],
   "source": [
    "# define shout with parameters word1 and word2\n",
    "def shout(word1, word2):\n",
    "    '''contatenate strings with threee exclamation marks'''\n",
    "    shout1 = word1 + '!!!'\n",
    "    shout2 = word2 + '!!!'\n",
    "    new_shout = shout1 + shout2\n",
    "    return new_shout\n",
    "\n",
    "\n",
    "yell = shout('congratulations', 'Arturo')\n",
    "\n",
    "print(yell)"
   ]
  },
  {
   "cell_type": "code",
   "execution_count": 5,
   "metadata": {
    "collapsed": true
   },
   "outputs": [],
   "source": [
    "nums = (3, 4, 6)\n",
    "# unpack nums\n",
    "num1, num2, num3 = nums\n",
    "even_nums = (2, nums)"
   ]
  },
  {
   "cell_type": "code",
   "execution_count": 7,
   "metadata": {},
   "outputs": [
    {
     "name": "stdout",
     "output_type": "stream",
     "text": [
      "congratulations!!!\n",
      "Arturo!!!\n"
     ]
    }
   ],
   "source": [
    "# define shout_all with parameters word1 and word2\n",
    "def shout_all(word1, word2):\n",
    "    shout1 = word1 + '!!!'\n",
    "    shout2 = word2 + '!!!'\n",
    "    shout_words = (shout1, shout2)\n",
    "    return shout_words\n",
    "\n",
    "yell1, yell2 = shout_all('congratulations', 'Arturo')\n",
    "\n",
    "print(yell1)\n",
    "print(yell2)"
   ]
  },
  {
   "cell_type": "code",
   "execution_count": 8,
   "metadata": {},
   "outputs": [
    {
     "name": "stdout",
     "output_type": "stream",
     "text": [
      "   contributors  coordinates                      created_at  \\\n",
      "0           NaN          NaN  Tue Mar 29 23:40:17 +0000 2016   \n",
      "1           NaN          NaN  Tue Mar 29 23:40:17 +0000 2016   \n",
      "2           NaN          NaN  Tue Mar 29 23:40:17 +0000 2016   \n",
      "3           NaN          NaN  Tue Mar 29 23:40:17 +0000 2016   \n",
      "4           NaN          NaN  Tue Mar 29 23:40:17 +0000 2016   \n",
      "\n",
      "                                            entities  \\\n",
      "0  {'hashtags': [], 'user_mentions': [{'screen_na...   \n",
      "1  {'hashtags': [{'text': 'cruzsexscandal', 'indi...   \n",
      "2  {'hashtags': [], 'user_mentions': [], 'symbols...   \n",
      "3  {'hashtags': [], 'user_mentions': [], 'symbols...   \n",
      "4  {'hashtags': [], 'user_mentions': [{'screen_na...   \n",
      "\n",
      "                                   extended_entities  favorite_count  \\\n",
      "0  {'media': [{'sizes': {'large': {'w': 1024, 'h'...               0   \n",
      "1  {'media': [{'sizes': {'large': {'w': 500, 'h':...               0   \n",
      "2                                                NaN               0   \n",
      "3                                                NaN               0   \n",
      "4                                                NaN               0   \n",
      "\n",
      "   favorited filter_level  geo                  id  \\\n",
      "0      False          low  NaN  714960401759387648   \n",
      "1      False          low  NaN  714960401977319424   \n",
      "2      False          low  NaN  714960402426236928   \n",
      "3      False          low  NaN  714960402367561730   \n",
      "4      False          low  NaN  714960402149416960   \n",
      "\n",
      "                         ...                          quoted_status_id  \\\n",
      "0                        ...                                       NaN   \n",
      "1                        ...                                       NaN   \n",
      "2                        ...                                       NaN   \n",
      "3                        ...                              7.149239e+17   \n",
      "4                        ...                                       NaN   \n",
      "\n",
      "  quoted_status_id_str  retweet_count  retweeted  \\\n",
      "0                  NaN              0      False   \n",
      "1                  NaN              0      False   \n",
      "2                  NaN              0      False   \n",
      "3         7.149239e+17              0      False   \n",
      "4                  NaN              0      False   \n",
      "\n",
      "                                    retweeted_status  \\\n",
      "0  {'retweeted': False, 'text': \".@krollbondratin...   \n",
      "1  {'retweeted': False, 'text': '@dmartosko Cruz ...   \n",
      "2                                                NaN   \n",
      "3                                                NaN   \n",
      "4  {'retweeted': False, 'text': 'The anti-America...   \n",
      "\n",
      "                                              source  \\\n",
      "0  <a href=\"http://twitter.com\" rel=\"nofollow\">Tw...   \n",
      "1  <a href=\"http://twitter.com\" rel=\"nofollow\">Tw...   \n",
      "2  <a href=\"http://www.facebook.com/twitter\" rel=...   \n",
      "3  <a href=\"http://twitter.com/download/android\" ...   \n",
      "4  <a href=\"http://twitter.com/download/iphone\" r...   \n",
      "\n",
      "                                                text   timestamp_ms truncated  \\\n",
      "0  RT @bpolitics: .@krollbondrating's Christopher...  1459294817758     False   \n",
      "1  RT @HeidiAlpine: @dmartosko Cruz video found.....  1459294817810     False   \n",
      "2  Njihuni me Zonjën Trump !!! | Ekskluzive https...  1459294817917     False   \n",
      "3  Your an idiot she shouldn't have tried to grab...  1459294817903     False   \n",
      "4  RT @AlanLohner: The anti-American D.C. elites ...  1459294817851     False   \n",
      "\n",
      "                                                user  \n",
      "0  {'utc_offset': 3600, 'profile_image_url_https'...  \n",
      "1  {'utc_offset': None, 'profile_image_url_https'...  \n",
      "2  {'utc_offset': 7200, 'profile_image_url_https'...  \n",
      "3  {'utc_offset': None, 'profile_image_url_https'...  \n",
      "4  {'utc_offset': -18000, 'profile_image_url_http...  \n",
      "\n",
      "[5 rows x 31 columns]\n"
     ]
    }
   ],
   "source": [
    "import pandas as pd\n",
    "df = pd.read_csv('data/tweets.csv')\n",
    "print(df.head())"
   ]
  },
  {
   "cell_type": "code",
   "execution_count": 9,
   "metadata": {},
   "outputs": [
    {
     "name": "stdout",
     "output_type": "stream",
     "text": [
      "<class 'pandas.core.frame.DataFrame'>\n",
      "RangeIndex: 100 entries, 0 to 99\n",
      "Data columns (total 31 columns):\n",
      "contributors                 0 non-null float64\n",
      "coordinates                  0 non-null float64\n",
      "created_at                   100 non-null object\n",
      "entities                     100 non-null object\n",
      "extended_entities            20 non-null object\n",
      "favorite_count               100 non-null int64\n",
      "favorited                    100 non-null bool\n",
      "filter_level                 100 non-null object\n",
      "geo                          0 non-null float64\n",
      "id                           100 non-null int64\n",
      "id_str                       100 non-null int64\n",
      "in_reply_to_screen_name      11 non-null object\n",
      "in_reply_to_status_id        8 non-null float64\n",
      "in_reply_to_status_id_str    8 non-null float64\n",
      "in_reply_to_user_id          11 non-null float64\n",
      "in_reply_to_user_id_str      11 non-null float64\n",
      "is_quote_status              100 non-null bool\n",
      "lang                         100 non-null object\n",
      "place                        3 non-null object\n",
      "possibly_sensitive           72 non-null object\n",
      "quoted_status                14 non-null object\n",
      "quoted_status_id             14 non-null float64\n",
      "quoted_status_id_str         14 non-null float64\n",
      "retweet_count                100 non-null int64\n",
      "retweeted                    100 non-null bool\n",
      "retweeted_status             62 non-null object\n",
      "source                       100 non-null object\n",
      "text                         100 non-null object\n",
      "timestamp_ms                 100 non-null int64\n",
      "truncated                    100 non-null bool\n",
      "user                         100 non-null object\n",
      "dtypes: bool(4), float64(9), int64(5), object(13)\n",
      "memory usage: 21.6+ KB\n"
     ]
    }
   ],
   "source": [
    "df.info()"
   ]
  },
  {
   "cell_type": "code",
   "execution_count": 10,
   "metadata": {},
   "outputs": [
    {
     "data": {
      "text/html": [
       "<div>\n",
       "<style>\n",
       "    .dataframe thead tr:only-child th {\n",
       "        text-align: right;\n",
       "    }\n",
       "\n",
       "    .dataframe thead th {\n",
       "        text-align: left;\n",
       "    }\n",
       "\n",
       "    .dataframe tbody tr th {\n",
       "        vertical-align: top;\n",
       "    }\n",
       "</style>\n",
       "<table border=\"1\" class=\"dataframe\">\n",
       "  <thead>\n",
       "    <tr style=\"text-align: right;\">\n",
       "      <th></th>\n",
       "      <th>contributors</th>\n",
       "      <th>coordinates</th>\n",
       "      <th>favorite_count</th>\n",
       "      <th>geo</th>\n",
       "      <th>id</th>\n",
       "      <th>id_str</th>\n",
       "      <th>in_reply_to_status_id</th>\n",
       "      <th>in_reply_to_status_id_str</th>\n",
       "      <th>in_reply_to_user_id</th>\n",
       "      <th>in_reply_to_user_id_str</th>\n",
       "      <th>quoted_status_id</th>\n",
       "      <th>quoted_status_id_str</th>\n",
       "      <th>retweet_count</th>\n",
       "      <th>timestamp_ms</th>\n",
       "    </tr>\n",
       "  </thead>\n",
       "  <tbody>\n",
       "    <tr>\n",
       "      <th>count</th>\n",
       "      <td>0.0</td>\n",
       "      <td>0.0</td>\n",
       "      <td>100.0</td>\n",
       "      <td>0.0</td>\n",
       "      <td>1.000000e+02</td>\n",
       "      <td>1.000000e+02</td>\n",
       "      <td>8.000000e+00</td>\n",
       "      <td>8.000000e+00</td>\n",
       "      <td>1.100000e+01</td>\n",
       "      <td>1.100000e+01</td>\n",
       "      <td>1.400000e+01</td>\n",
       "      <td>1.400000e+01</td>\n",
       "      <td>100.0</td>\n",
       "      <td>1.000000e+02</td>\n",
       "    </tr>\n",
       "    <tr>\n",
       "      <th>mean</th>\n",
       "      <td>NaN</td>\n",
       "      <td>NaN</td>\n",
       "      <td>0.0</td>\n",
       "      <td>NaN</td>\n",
       "      <td>7.149604e+17</td>\n",
       "      <td>7.149604e+17</td>\n",
       "      <td>7.108866e+17</td>\n",
       "      <td>7.108866e+17</td>\n",
       "      <td>2.990660e+08</td>\n",
       "      <td>2.990660e+08</td>\n",
       "      <td>7.149298e+17</td>\n",
       "      <td>7.149298e+17</td>\n",
       "      <td>0.0</td>\n",
       "      <td>1.459295e+12</td>\n",
       "    </tr>\n",
       "    <tr>\n",
       "      <th>std</th>\n",
       "      <td>NaN</td>\n",
       "      <td>NaN</td>\n",
       "      <td>0.0</td>\n",
       "      <td>NaN</td>\n",
       "      <td>2.466478e+09</td>\n",
       "      <td>2.466478e+09</td>\n",
       "      <td>7.535624e+15</td>\n",
       "      <td>7.535624e+15</td>\n",
       "      <td>7.661897e+08</td>\n",
       "      <td>7.661897e+08</td>\n",
       "      <td>3.357189e+13</td>\n",
       "      <td>3.357189e+13</td>\n",
       "      <td>0.0</td>\n",
       "      <td>5.880544e+02</td>\n",
       "    </tr>\n",
       "    <tr>\n",
       "      <th>min</th>\n",
       "      <td>NaN</td>\n",
       "      <td>NaN</td>\n",
       "      <td>0.0</td>\n",
       "      <td>NaN</td>\n",
       "      <td>7.149604e+17</td>\n",
       "      <td>7.149604e+17</td>\n",
       "      <td>6.986775e+17</td>\n",
       "      <td>6.986775e+17</td>\n",
       "      <td>1.596421e+07</td>\n",
       "      <td>1.596421e+07</td>\n",
       "      <td>7.148444e+17</td>\n",
       "      <td>7.148444e+17</td>\n",
       "      <td>0.0</td>\n",
       "      <td>1.459295e+12</td>\n",
       "    </tr>\n",
       "    <tr>\n",
       "      <th>25%</th>\n",
       "      <td>NaN</td>\n",
       "      <td>NaN</td>\n",
       "      <td>0.0</td>\n",
       "      <td>NaN</td>\n",
       "      <td>7.149604e+17</td>\n",
       "      <td>7.149604e+17</td>\n",
       "      <td>7.108778e+17</td>\n",
       "      <td>7.108778e+17</td>\n",
       "      <td>2.313262e+07</td>\n",
       "      <td>2.313262e+07</td>\n",
       "      <td>7.149182e+17</td>\n",
       "      <td>7.149182e+17</td>\n",
       "      <td>0.0</td>\n",
       "      <td>1.459295e+12</td>\n",
       "    </tr>\n",
       "    <tr>\n",
       "      <th>50%</th>\n",
       "      <td>NaN</td>\n",
       "      <td>NaN</td>\n",
       "      <td>0.0</td>\n",
       "      <td>NaN</td>\n",
       "      <td>7.149604e+17</td>\n",
       "      <td>7.149604e+17</td>\n",
       "      <td>7.149572e+17</td>\n",
       "      <td>7.149572e+17</td>\n",
       "      <td>2.507388e+07</td>\n",
       "      <td>2.507388e+07</td>\n",
       "      <td>7.149246e+17</td>\n",
       "      <td>7.149246e+17</td>\n",
       "      <td>0.0</td>\n",
       "      <td>1.459295e+12</td>\n",
       "    </tr>\n",
       "    <tr>\n",
       "      <th>75%</th>\n",
       "      <td>NaN</td>\n",
       "      <td>NaN</td>\n",
       "      <td>0.0</td>\n",
       "      <td>NaN</td>\n",
       "      <td>7.149604e+17</td>\n",
       "      <td>7.149604e+17</td>\n",
       "      <td>7.149591e+17</td>\n",
       "      <td>7.149591e+17</td>\n",
       "      <td>3.178486e+07</td>\n",
       "      <td>3.178486e+07</td>\n",
       "      <td>7.149599e+17</td>\n",
       "      <td>7.149599e+17</td>\n",
       "      <td>0.0</td>\n",
       "      <td>1.459295e+12</td>\n",
       "    </tr>\n",
       "    <tr>\n",
       "      <th>max</th>\n",
       "      <td>NaN</td>\n",
       "      <td>NaN</td>\n",
       "      <td>0.0</td>\n",
       "      <td>NaN</td>\n",
       "      <td>7.149604e+17</td>\n",
       "      <td>7.149604e+17</td>\n",
       "      <td>7.149600e+17</td>\n",
       "      <td>7.149600e+17</td>\n",
       "      <td>2.567842e+09</td>\n",
       "      <td>2.567842e+09</td>\n",
       "      <td>7.149603e+17</td>\n",
       "      <td>7.149603e+17</td>\n",
       "      <td>0.0</td>\n",
       "      <td>1.459295e+12</td>\n",
       "    </tr>\n",
       "  </tbody>\n",
       "</table>\n",
       "</div>"
      ],
      "text/plain": [
       "       contributors  coordinates  favorite_count  geo            id  \\\n",
       "count           0.0          0.0           100.0  0.0  1.000000e+02   \n",
       "mean            NaN          NaN             0.0  NaN  7.149604e+17   \n",
       "std             NaN          NaN             0.0  NaN  2.466478e+09   \n",
       "min             NaN          NaN             0.0  NaN  7.149604e+17   \n",
       "25%             NaN          NaN             0.0  NaN  7.149604e+17   \n",
       "50%             NaN          NaN             0.0  NaN  7.149604e+17   \n",
       "75%             NaN          NaN             0.0  NaN  7.149604e+17   \n",
       "max             NaN          NaN             0.0  NaN  7.149604e+17   \n",
       "\n",
       "             id_str  in_reply_to_status_id  in_reply_to_status_id_str  \\\n",
       "count  1.000000e+02           8.000000e+00               8.000000e+00   \n",
       "mean   7.149604e+17           7.108866e+17               7.108866e+17   \n",
       "std    2.466478e+09           7.535624e+15               7.535624e+15   \n",
       "min    7.149604e+17           6.986775e+17               6.986775e+17   \n",
       "25%    7.149604e+17           7.108778e+17               7.108778e+17   \n",
       "50%    7.149604e+17           7.149572e+17               7.149572e+17   \n",
       "75%    7.149604e+17           7.149591e+17               7.149591e+17   \n",
       "max    7.149604e+17           7.149600e+17               7.149600e+17   \n",
       "\n",
       "       in_reply_to_user_id  in_reply_to_user_id_str  quoted_status_id  \\\n",
       "count         1.100000e+01             1.100000e+01      1.400000e+01   \n",
       "mean          2.990660e+08             2.990660e+08      7.149298e+17   \n",
       "std           7.661897e+08             7.661897e+08      3.357189e+13   \n",
       "min           1.596421e+07             1.596421e+07      7.148444e+17   \n",
       "25%           2.313262e+07             2.313262e+07      7.149182e+17   \n",
       "50%           2.507388e+07             2.507388e+07      7.149246e+17   \n",
       "75%           3.178486e+07             3.178486e+07      7.149599e+17   \n",
       "max           2.567842e+09             2.567842e+09      7.149603e+17   \n",
       "\n",
       "       quoted_status_id_str  retweet_count  timestamp_ms  \n",
       "count          1.400000e+01          100.0  1.000000e+02  \n",
       "mean           7.149298e+17            0.0  1.459295e+12  \n",
       "std            3.357189e+13            0.0  5.880544e+02  \n",
       "min            7.148444e+17            0.0  1.459295e+12  \n",
       "25%            7.149182e+17            0.0  1.459295e+12  \n",
       "50%            7.149246e+17            0.0  1.459295e+12  \n",
       "75%            7.149599e+17            0.0  1.459295e+12  \n",
       "max            7.149603e+17            0.0  1.459295e+12  "
      ]
     },
     "execution_count": 10,
     "metadata": {},
     "output_type": "execute_result"
    }
   ],
   "source": [
    "df.describe()"
   ]
  },
  {
   "cell_type": "code",
   "execution_count": 12,
   "metadata": {},
   "outputs": [
    {
     "name": "stdout",
     "output_type": "stream",
     "text": [
      "{'en': 97, 'et': 1, 'und': 2}\n"
     ]
    }
   ],
   "source": [
    "langs_count = {}\n",
    "\n",
    "col = df['lang']\n",
    "\n",
    "for entry in col:\n",
    "    if entry in langs_count.keys():\n",
    "        langs_count[entry] += 1\n",
    "    else:\n",
    "        langs_count[entry] = 1\n",
    "        \n",
    "print(langs_count)"
   ]
  },
  {
   "cell_type": "code",
   "execution_count": 13,
   "metadata": {},
   "outputs": [
    {
     "data": {
      "text/plain": [
       "0    en\n",
       "1    en\n",
       "2    et\n",
       "3    en\n",
       "4    en\n",
       "Name: lang, dtype: object"
      ]
     },
     "execution_count": 13,
     "metadata": {},
     "output_type": "execute_result"
    }
   ],
   "source": [
    "col.head()"
   ]
  },
  {
   "cell_type": "code",
   "execution_count": 15,
   "metadata": {},
   "outputs": [
    {
     "name": "stdout",
     "output_type": "stream",
     "text": [
      "{'en': 97, 'et': 1, 'und': 2}\n"
     ]
    }
   ],
   "source": [
    "def count_entries(df, col_name):\n",
    "    langs_count = {}\n",
    "    col = df[col_name]\n",
    "    \n",
    "    for entry in col:\n",
    "        if entry in langs_count.keys():\n",
    "            langs_count[entry] += 1\n",
    "        else:\n",
    "            langs_count[entry] = 1\n",
    "    return langs_count\n",
    "\n",
    "result = count_entries(df, 'lang')\n",
    "print(result)"
   ]
  },
  {
   "cell_type": "code",
   "execution_count": null,
   "metadata": {
    "collapsed": true
   },
   "outputs": [],
   "source": []
  }
 ],
 "metadata": {
  "kernelspec": {
   "display_name": "Python 3",
   "language": "python",
   "name": "python3"
  },
  "language_info": {
   "codemirror_mode": {
    "name": "ipython",
    "version": 3
   },
   "file_extension": ".py",
   "mimetype": "text/x-python",
   "name": "python",
   "nbconvert_exporter": "python",
   "pygments_lexer": "ipython3",
   "version": "3.6.8"
  }
 },
 "nbformat": 4,
 "nbformat_minor": 2
}
